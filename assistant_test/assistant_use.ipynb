{
 "cells": [
  {
   "cell_type": "markdown",
   "metadata": {},
   "source": [
    "#### Setup the notebook"
   ]
  },
  {
   "cell_type": "code",
   "execution_count": 1,
   "metadata": {},
   "outputs": [],
   "source": [
    "#************************************************************************************************\n",
    "# Imports\n",
    "#************************************************************************************************\n",
    "import os\n",
    "from dotenv import load_dotenv\n",
    "import pandas as pd\n",
    "from openai import AzureOpenAI\n",
    "import json\n",
    "import time\n",
    "\n",
    "# Import the assistant tools\n",
    "from tools import get_list_of_dockets\n",
    "\n",
    "#************************************************************************************************\n",
    "# Load environment variables from a .env file and set local variables\n",
    "#************************************************************************************************\n",
    "load_dotenv()\n",
    "\n",
    "AZURE_OPENAI_API_ENDPOINT = os.getenv(\"AZURE_OPENAI_API_ENDPOINT\")\n",
    "AZURE_OPENAI_API_KEY = os.getenv(\"AZURE_OPENAI_API_KEY\")\n",
    "AZURE_OPENAI_API_VERSION = os.getenv(\"AZURE_OPENAI_API_VERSION\")\n",
    "RA_ASSISTANT_ID = \"asst_Ga0X4abWQFGSvfDnS0TY0LcP\"\n",
    "\n",
    "\n",
    "#************************************************************************************************\n",
    "# Create client instance of the AzureOpenAI class\n",
    "#************************************************************************************************\n",
    "AOAI = AzureOpenAI(\n",
    "            azure_endpoint=AZURE_OPENAI_API_ENDPOINT,\n",
    "            api_key=AZURE_OPENAI_API_KEY,\n",
    "            api_version=AZURE_OPENAI_API_VERSION\n",
    "        )\n",
    "\n",
    "#************************************************************************************************\n",
    "# Setup utility functions\n",
    "#************************************************************************************************\n",
    "\n",
    "# Pretty printing JSON\n",
    "def show_json(obj):\n",
    "    display(json.loads(obj.model_dump_json()))\n",
    "\n",
    "# Pretty printing messages\n",
    "def pretty_print(messages):\n",
    "    print(\"# Messages\")\n",
    "    for m in messages:\n",
    "        print(f\"{m.role}: {m.content[0].text.value}\")\n",
    "    print()\n",
    "\n",
    "def wait_on_run(run, thread):\n",
    "    while run.status == \"queued\" or run.status == \"in_progress\":\n",
    "        run = AOAI.beta.threads.runs.retrieve(thread_id=thread.id, run_id=run.id)  \n",
    "        time.sleep(0.5)\n",
    "    return run\n",
    "\n",
    "def submit_message(assistant_id, thread, user_message):\n",
    "    AOAI.beta.threads.messages.create(thread_id=thread.id, role=\"user\", content=user_message)\n",
    "    return AOAI.beta.threads.runs.create(thread_id=thread.id, assistant_id=assistant_id)\n",
    "\n",
    "def get_response(thread):\n",
    "    return AOAI.beta.threads.messages.list(thread_id=thread.id, order=\"asc\")\n",
    "\n",
    "def create_thread_and_run(user_input):\n",
    "    thread = AOAI.beta.threads.create()\n",
    "    run = submit_message(RA_ASSISTANT_ID, thread, user_input)\n",
    "    return thread, run\n",
    "\n"
   ]
  },
  {
   "cell_type": "code",
   "execution_count": 2,
   "metadata": {},
   "outputs": [
    {
     "data": {
      "text/plain": [
       "'requires_action'"
      ]
     },
     "execution_count": 2,
     "metadata": {},
     "output_type": "execute_result"
    }
   ],
   "source": [
    "thread, run = create_thread_and_run(\"What proposed regulations from 2024 have to do with ITAR.\")\n",
    "run = wait_on_run(run, thread)\n",
    "run.status"
   ]
  },
  {
   "cell_type": "code",
   "execution_count": null,
   "metadata": {},
   "outputs": [],
   "source": [
    "show_json(run)"
   ]
  },
  {
   "cell_type": "code",
   "execution_count": 3,
   "metadata": {},
   "outputs": [
    {
     "name": "stdout",
     "output_type": "stream",
     "text": [
      "Function Name: get_list_of_dockets\n",
      "Function Arguments:\n"
     ]
    },
    {
     "data": {
      "text/plain": [
       "{'searchTerm': 'ITAR',\n",
       " 'afterPostedDate': '2024-01-01',\n",
       " 'beforePostedDate': '2024-12-31'}"
      ]
     },
     "execution_count": 3,
     "metadata": {},
     "output_type": "execute_result"
    }
   ],
   "source": [
    "# Extract single tool call\n",
    "tool_call = run.required_action.submit_tool_outputs.tool_calls[0]\n",
    "name = tool_call.function.name\n",
    "arguments = json.loads(tool_call.function.arguments)\n",
    "\n",
    "print(\"Function Name:\", name)\n",
    "print(\"Function Arguments:\")\n",
    "arguments"
   ]
  },
  {
   "cell_type": "code",
   "execution_count": 4,
   "metadata": {},
   "outputs": [
    {
     "name": "stdout",
     "output_type": "stream",
     "text": [
      "Making API Call to: https://api.regulations.gov/v4/documents\n",
      "With parameters: {'api_key': '4p2Hpwlq1SJ5kOhayfhqeI0D1RtDOo70d8azejwL', 'filter[documentType]': 'Proposed Rule', 'sort': '-postedDate', 'filter[searchTerm]': 'ITAR', 'filter[postedDate][le]': '2024-12-31', 'filter[postedDate][ge]': '2024-01-01'}\n",
      "API Call Successful!\n",
      "Function Output:\n",
      "{'data': [{'id': 'DOS-2024-0013-0001', 'type': 'documents', 'attributes': {'documentType': 'Proposed Rule', 'lastModifiedDate': '2024-05-01T13:18:56Z', 'highlightedContent': '', 'frDocNum': '2024-08829', 'withdrawn': False, 'agencyId': 'DOS', 'commentEndDate': '2024-06-01T03:59:59Z', 'title': 'International Traffic in Arms Regulations: Exemption for Defense Trade and Cooperation Among Australia, the United Kingdom, and the United States', 'postedDate': '2024-05-01T04:00:00Z', 'docketId': 'DOS-2024-0013', 'subtype': None, 'commentStartDate': '2024-05-01T04:00:00Z', 'openForComment': True, 'objectId': '090000648652cd63'}, 'links': {'self': 'https://api.regulations.gov/v4/documents/DOS-2024-0013-0001'}}, {'id': 'DOS-2023-0034-0001', 'type': 'documents', 'attributes': {'documentType': 'Proposed Rule', 'lastModifiedDate': '2024-05-02T01:01:03Z', 'highlightedContent': '', 'frDocNum': '2024-08627', 'withdrawn': False, 'agencyId': 'DOS', 'commentEndDate': '2024-06-11T03:59:59Z', 'title': 'International Traffic in Arms Regulations: Registration Fees', 'postedDate': '2024-04-24T04:00:00Z', 'docketId': 'DOS-2023-0034', 'subtype': None, 'commentStartDate': '2024-04-24T04:00:00Z', 'openForComment': True, 'objectId': '09000064864eb4c9'}, 'links': {'self': 'https://api.regulations.gov/v4/documents/DOS-2023-0034-0001'}}, {'id': 'DARS-2024-0002-0001', 'type': 'documents', 'attributes': {'documentType': 'Proposed Rule', 'lastModifiedDate': '2024-02-20T16:50:19Z', 'highlightedContent': '', 'frDocNum': '2024-02742', 'withdrawn': False, 'agencyId': 'DARS', 'commentEndDate': '2024-04-16T03:59:59Z', 'title': 'Defense Federal Acquisition Regulation Supplement: Assuring Integrity of Overseas Fuel Supplies', 'postedDate': '2024-02-15T05:00:00Z', 'docketId': 'DARS-2024-0002', 'subtype': None, 'commentStartDate': '2024-02-15T05:00:00Z', 'openForComment': False, 'objectId': '0900006486408e1f'}, 'links': {'self': 'https://api.regulations.gov/v4/documents/DARS-2024-0002-0001'}}], 'meta': {'aggregations': {'documentType': [{'docCount': 19, 'label': 'Supporting & Related Material'}, {'docCount': 11, 'label': 'Rule'}, {'docCount': 3, 'label': 'Other'}, {'docCount': 3, 'label': 'Proposed Rule'}, {'docCount': 2, 'label': 'Notice'}], 'subtype': [], 'withinCommentPeriod': [{'docCount': 2, 'label': 'true'}, {'docCount': 1, 'label': 'false'}], 'agencyId': [{'docCount': 2, 'value': 'DOS'}, {'docCount': 1, 'value': 'DARS'}], 'commentEndDate': [{'docCount': 1, 'label': 'Next 30 Days', 'fromDate': '2024-05-02 00:00:00', 'toDate': '2024-05-31 23:59:59'}, {'docCount': 2, 'label': 'Next 90 Days', 'fromDate': '2024-05-02 00:00:00', 'toDate': '2024-07-30 23:59:59'}], 'postedDate': [{'docCount': 1, 'label': 'Last 3 Days', 'fromDate': '2024-04-30 00:00:00', 'toDate': '2024-05-02 23:59:59'}, {'docCount': 1, 'label': 'Last 7 Days', 'fromDate': '2024-04-26 00:00:00', 'toDate': '2024-05-02 23:59:59'}, {'docCount': 2, 'label': 'Last 15 Days', 'fromDate': '2024-04-18 00:00:00', 'toDate': '2024-05-02 23:59:59'}, {'docCount': 2, 'label': 'Last 30 Days', 'fromDate': '2024-04-03 00:00:00', 'toDate': '2024-05-02 23:59:59'}, {'docCount': 3, 'label': 'Last 90 Days', 'fromDate': '2024-02-03 00:00:00', 'toDate': '2024-05-02 23:59:59'}]}, 'filters': {'postedDate': {'fromDate': '2024-01-01', 'toDate': '2024-12-31'}, 'documentType': [{'label': 'Proposed Rule', 'value': 'Proposed Rule'}]}, 'hasNextPage': False, 'hasPreviousPage': False, 'numberOfElements': 3, 'pageNumber': 1, 'pageSize': 25, 'totalElements': 3, 'totalPages': 1, 'firstPage': True, 'lastPage': True}}\n"
     ]
    }
   ],
   "source": [
    "function_to_call = globals()[name]\n",
    "result = function_to_call(**arguments)\n",
    "\n",
    "print(\"Function Output:\")\n",
    "print(result)"
   ]
  },
  {
   "cell_type": "code",
   "execution_count": 5,
   "metadata": {},
   "outputs": [
    {
     "data": {
      "text/plain": [
       "{'id': 'run_GFbDQErf62GFbx0fc2AOoMf9',\n",
       " 'assistant_id': 'asst_Ga0X4abWQFGSvfDnS0TY0LcP',\n",
       " 'cancelled_at': None,\n",
       " 'completed_at': None,\n",
       " 'created_at': 1714694116,\n",
       " 'expires_at': 1714694716,\n",
       " 'failed_at': None,\n",
       " 'file_ids': [],\n",
       " 'instructions': \"**Persona**\\nYou are an expert rulemaking assistant skilled at responding to questions about government regulations and using the regulations.gov API. You write concisely and clearly, in plain language, responding directly to users.\\n\\n**Situation**\\nUsers will ask you questions about proposed government rules. You will use your tools and knowledge to provide thorough and well-supported answers.\\n\\n**Tools Available**\\n### get_list_of_dockets - Use this tool to get a list of dockets from regulations.gov.\\n- Parameters: \\n    - agencyId: Filters results for the agency acronym specified in the value. Example: 'EPA'\\n    - searchTerm: Filters results on the given term.\\n    - postedDate: Filters results for dockets posted on the date. Format of date must be yyyy-mm-dd. \\n    - beforePostedDate: Filters results for dockets posted on or before beforePostedDate. Format of the date MUST be yyyy-mm-dd.\\n    - afterPostedDate: Filters results for dockets posted on or after afterPostedDate. Format of the date MUST be yyyy-mm-dd.\\n- Returns: A list of dockets with the following fields:\\n    - id: The docket ID.\\n    - attributes: The attributes of the docket.\\n- Notes:\\n    - At least one of the parameters must be provided.\\n    - If postedDate is provided, beforePostedDate and afterPostedDate should not be provided.\\n    - For a date range, use beforePostedDate and afterPostedDate.\\n\\n### get_docket_details - Use this tool to get the detailed information of a specific docketId from regulations.gov.\\n- Parameters:\\n    - docketId: The ID of the docket.\\n- Returns: The detailed information about the docket including the content of the prposed rule.\\n\",\n",
       " 'last_error': None,\n",
       " 'metadata': {},\n",
       " 'model': 'gpt-4-turbo',\n",
       " 'object': 'thread.run',\n",
       " 'required_action': None,\n",
       " 'started_at': 1714694117,\n",
       " 'status': 'queued',\n",
       " 'thread_id': 'thread_TFhTKmvFy1pRY2oha0FrQ34t',\n",
       " 'tools': [{'type': 'code_interpreter'},\n",
       "  {'function': {'name': 'get_list_of_dockets',\n",
       "    'description': 'Retrieves a list of dockets.',\n",
       "    'parameters': {'type': 'object',\n",
       "     'properties': {'agencyId': {'type': 'string',\n",
       "       'description': \"The agency acronym to filter results. Example: 'EPA'\"},\n",
       "      'searchTerm': {'type': 'string',\n",
       "       'description': 'The term to filter results.'},\n",
       "      'postedDate': {'type': 'string',\n",
       "       'description': 'The posted date to filter results. The value must be formatted as yyyy-MM-dd.'},\n",
       "      'beforePostedDate': {'type': 'string',\n",
       "       'description': 'The date before which the dockets were posted. The value must be formatted as yyyy-MM-dd.'},\n",
       "      'afterPostedDate': {'type': 'string',\n",
       "       'description': 'The date after which the dockets were posted. The value must be formatted as yyyy-MM-dd.'}},\n",
       "     'required': ['']}},\n",
       "   'type': 'function'},\n",
       "  {'function': {'name': 'get_docket_details',\n",
       "    'description': 'Retrieves the detailed information of a specific docket.',\n",
       "    'parameters': {'type': 'object',\n",
       "     'properties': {'docketId': {'type': 'string',\n",
       "       'description': 'The ID of the docket.'}},\n",
       "     'required': ['docketId']}},\n",
       "   'type': 'function'}],\n",
       " 'usage': None,\n",
       " 'temperature': 1.0}"
      ]
     },
     "metadata": {},
     "output_type": "display_data"
    }
   ],
   "source": [
    "run = AOAI.beta.threads.runs.submit_tool_outputs(\n",
    "    thread_id=thread.id,\n",
    "    run_id=run.id,\n",
    "    tool_outputs=[\n",
    "        {\n",
    "            \"tool_call_id\": tool_call.id,\n",
    "            \"output\": json.dumps(result),\n",
    "        }\n",
    "    ],\n",
    ")\n",
    "show_json(run)"
   ]
  },
  {
   "cell_type": "code",
   "execution_count": 6,
   "metadata": {},
   "outputs": [
    {
     "data": {
      "text/plain": [
       "'completed'"
      ]
     },
     "execution_count": 6,
     "metadata": {},
     "output_type": "execute_result"
    }
   ],
   "source": [
    "run = wait_on_run(run, thread)\n",
    "run.status"
   ]
  },
  {
   "cell_type": "code",
   "execution_count": null,
   "metadata": {},
   "outputs": [],
   "source": [
    "# Extract single tool call\n",
    "tool_call = run.required_action.submit_tool_outputs.tool_calls[0]\n",
    "name = tool_call.function.name\n",
    "arguments = json.loads(tool_call.function.arguments)\n",
    "\n",
    "print(\"Function Name:\", name)\n",
    "print(\"Function Arguments:\")\n",
    "arguments"
   ]
  },
  {
   "cell_type": "code",
   "execution_count": null,
   "metadata": {},
   "outputs": [],
   "source": [
    "responses = get_data_from_last_10K_filing_by_section(ticker=\"MSFT\",section_path=\"Role_DisclosureEARNINGSPERSHARETables\")\n",
    "print(\"Responses:\", responses)"
   ]
  },
  {
   "cell_type": "code",
   "execution_count": null,
   "metadata": {},
   "outputs": [],
   "source": [
    "run = AOAI.beta.threads.runs.submit_tool_outputs(\n",
    "    thread_id=thread.id,\n",
    "    run_id=run.id,\n",
    "    tool_outputs=[\n",
    "        {\n",
    "            \"tool_call_id\": tool_call.id,\n",
    "            \"output\": json.dumps(responses),\n",
    "        }\n",
    "    ],\n",
    ")\n",
    "show_json(run)"
   ]
  },
  {
   "cell_type": "code",
   "execution_count": 7,
   "metadata": {},
   "outputs": [
    {
     "name": "stdout",
     "output_type": "stream",
     "text": [
      "# Messages\n",
      "user: What proposed regulations from 2024 have to do with ITAR.\n",
      "assistant: In 2024, there are proposed regulations related to the International Traffic in Arms Regulations (ITAR) as follows:\n",
      "\n",
      "1. **International Traffic in Arms Regulations: Exemption for Defense Trade and Cooperation Among Australia, the United Kingdom, and the United States**\n",
      "   - **Docket ID**: DOS-2024-0013\n",
      "   - **Posted Date**: 2024-05-01\n",
      "   - **Comment End Date**: 2024-06-01\n",
      "   - **Agency**: Department of State (DOS)\n",
      "   - [Link to document](https://api.regulations.gov/v4/documents/DOS-2024-0013-0001)\n",
      "\n",
      "2. **International Traffic in Arms Regulations: Registration Fees**\n",
      "   - **Docket ID**: DOS-2023-0034\n",
      "   - **Posted Date**: 2024-04-24\n",
      "   - **Comment End Date**: 2024-06-11\n",
      "   - **Agency**: Department of State (DOS)\n",
      "   - [Link to document](https://api.regulations.gov/v4/documents/DOS-2023-0034-0001)\n",
      "\n",
      "3. **Defense Federal Acquisition Regulation Supplement: Assuring Integrity of Overseas Fuel Supplies**\n",
      "   - **Docket ID**: DARS-2024-0002\n",
      "   - **Posted Date**: 2024-02-15\n",
      "   - **Comment End Date**: 2024-04-16 (Note: This comment period has closed.)\n",
      "   - **Agency**: Department of the Army (DARS)\n",
      "   - [Link to document](https://api.regulations.gov/v4/documents/DARS-2024-0002-0001)\n",
      "\n",
      "These proposed regulations involve aspects of defense and cooperation among specific nations, the registration process for entities involved in the defense trade, and the integrity of overseas fuel supplies, all within the context of ITAR.\n",
      "\n"
     ]
    }
   ],
   "source": [
    "run = wait_on_run(run, thread)\n",
    "pretty_print(get_response(thread))"
   ]
  }
 ],
 "metadata": {
  "kernelspec": {
   "display_name": ".venv",
   "language": "python",
   "name": "python3"
  },
  "language_info": {
   "codemirror_mode": {
    "name": "ipython",
    "version": 3
   },
   "file_extension": ".py",
   "mimetype": "text/x-python",
   "name": "python",
   "nbconvert_exporter": "python",
   "pygments_lexer": "ipython3",
   "version": "3.12.3"
  }
 },
 "nbformat": 4,
 "nbformat_minor": 2
}
