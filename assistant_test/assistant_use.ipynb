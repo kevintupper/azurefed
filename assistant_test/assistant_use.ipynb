{
 "cells": [
  {
   "cell_type": "markdown",
   "metadata": {},
   "source": [
    "#### Setup the notebook"
   ]
  },
  {
   "cell_type": "code",
   "execution_count": 1,
   "metadata": {},
   "outputs": [
    {
     "name": "stdout",
     "output_type": "stream",
     "text": [
      "Making API Call to: https://api.regulations.gov/v4/documents/USPS-2016-0169-0001\n",
      "With parameters: {'api_key': '4p2Hpwlq1SJ5kOhayfhqeI0D1RtDOo70d8azejwL'}\n",
      "API Call Successful!\n",
      "<html>\n",
      "<head>\n",
      "<title>Federal Register, Volume 81 Issue 172 (Tuesday, September 6, 2016)</title>\n",
      "</head>\n",
      "<body><pre>\n",
      "[Federal Register Volume 81, Number 172 (Tuesday, September 6, 2016)]\n",
      "[Notices]\n",
      "[Page 61259]\n",
      "From the Federal Register Online via the Government Publishing Office [<a href=\"http://www.gpo.gov\">www.gpo.gov</a>]\n",
      "[FR Doc No: 2016-21267]\n",
      "\n",
      "\n",
      "=======================================================================\n",
      "-----------------------------------------------------------------------\n",
      "\n",
      "POSTAL SERVICE\n",
      "\n",
      "\n",
      "Product Change--Priority Mail Express and Priority Mail \n",
      "Negotiated Service Agreement\n",
      "\n",
      "AGENCY: Postal Service<SUP>TM</SUP>.\n",
      "\n",
      "ACTION: Notice.\n",
      "\n",
      "-----------------------------------------------------------------------\n",
      "\n",
      "SUMMARY: The Postal Service gives notice of filing a request with the \n",
      "Postal Regulatory Commission to add a domestic shipping services \n",
      "contract to the list of Negotiated Service Agreements in the Mail \n",
      "Classification Schedule's Competitive Products List.\n",
      "\n",
      "DATES: Effective date: September 6, 2016.\n",
      "\n",
      "FOR FURTHER INFORMATION CONTACT: Elizabeth A. Reed, 202-268-3179.\n",
      "\n",
      "SUPPLEMENTARY INFORMATION: The United States Postal Service[supreg] \n",
      "hereby gives notice that, pursuant to 39 U.S.C. 3642 and 3632(b)(3), on \n",
      "August 30, 2016, it filed with the Postal Regulatory Commission a \n",
      "Request of the United States Postal Service to Add Priority Mail \n",
      "Express & Priority Mail Contract 32 to Competitive Product List. \n",
      "Documents are available at <a href=\"http://www.prc.gov\">www.prc.gov</a>, Docket Nos. MC2016-185, CP2016-\n",
      "266.\n",
      "\n",
      "Stanley F. Mires,\n",
      "Attorney, Federal Compliance.\n",
      "[FR Doc. 2016-21267 Filed 9-2-16; 8:45 am]\n",
      " BILLING CODE 7710-12-P\n",
      "\n",
      "\n",
      "</pre></body>\n",
      "</html>\n"
     ]
    }
   ],
   "source": [
    "#************************************************************************************************\n",
    "# Imports\n",
    "#************************************************************************************************\n",
    "import os\n",
    "from dotenv import load_dotenv\n",
    "import pandas as pd\n",
    "from openai import AzureOpenAI\n",
    "import json\n",
    "import time\n",
    "\n",
    "# Import the assistant tools\n",
    "from tools import get_list_of_dockets\n",
    "\n",
    "#************************************************************************************************\n",
    "# Load environment variables from a .env file and set local variables\n",
    "#************************************************************************************************\n",
    "load_dotenv()\n",
    "\n",
    "AZURE_OPENAI_API_ENDPOINT = os.getenv(\"AZURE_OPENAI_API_ENDPOINT\")\n",
    "AZURE_OPENAI_API_KEY = os.getenv(\"AZURE_OPENAI_API_KEY\")\n",
    "AZURE_OPENAI_API_VERSION = os.getenv(\"AZURE_OPENAI_API_VERSION\")\n",
    "RA_ASSISTANT_ID = \"asst_JLRYLt14l5wWRbpC6Y1VXwbc\"\n",
    "\n",
    "\n",
    "#************************************************************************************************\n",
    "# Create client instance of the AzureOpenAI class\n",
    "#************************************************************************************************\n",
    "AOAI = AzureOpenAI(\n",
    "            azure_endpoint=AZURE_OPENAI_API_ENDPOINT,\n",
    "            api_key=AZURE_OPENAI_API_KEY,\n",
    "            api_version=AZURE_OPENAI_API_VERSION\n",
    "        )\n",
    "\n",
    "#************************************************************************************************\n",
    "# Setup utility functions\n",
    "#************************************************************************************************\n",
    "\n",
    "# Pretty printing JSON\n",
    "def show_json(obj):\n",
    "    display(json.loads(obj.model_dump_json()))\n",
    "\n",
    "# Pretty printing messages\n",
    "def pretty_print(messages):\n",
    "    print(\"# Messages\")\n",
    "    for m in messages:\n",
    "        print(f\"{m.role}: {m.content[0].text.value}\")\n",
    "    print()\n",
    "\n",
    "def wait_on_run(run, thread):\n",
    "    while run.status == \"queued\" or run.status == \"in_progress\":\n",
    "        run = AOAI.beta.threads.runs.retrieve(thread_id=thread.id, run_id=run.id)  \n",
    "        time.sleep(0.5)\n",
    "    return run\n",
    "\n",
    "def submit_message(assistant_id, thread, user_message):\n",
    "    AOAI.beta.threads.messages.create(thread_id=thread.id, role=\"user\", content=user_message)\n",
    "    return AOAI.beta.threads.runs.create(thread_id=thread.id, assistant_id=assistant_id)\n",
    "\n",
    "def get_response(thread):\n",
    "    return AOAI.beta.threads.messages.list(thread_id=thread.id, order=\"asc\")\n",
    "\n",
    "def create_thread_and_run(user_input):\n",
    "    thread = AOAI.beta.threads.create()\n",
    "    run = submit_message(RA_ASSISTANT_ID, thread, user_input)\n",
    "    return thread, run\n",
    "\n"
   ]
  },
  {
   "cell_type": "code",
   "execution_count": 2,
   "metadata": {},
   "outputs": [
    {
     "data": {
      "text/plain": [
       "'requires_action'"
      ]
     },
     "execution_count": 2,
     "metadata": {},
     "output_type": "execute_result"
    }
   ],
   "source": [
    "thread, run = create_thread_and_run(\"Are there any recent proposed regulations from the State Department dealing with ITAR.\")\n",
    "run = wait_on_run(run, thread)\n",
    "run.status"
   ]
  },
  {
   "cell_type": "code",
   "execution_count": null,
   "metadata": {},
   "outputs": [],
   "source": [
    "show_json(run)"
   ]
  },
  {
   "cell_type": "code",
   "execution_count": 3,
   "metadata": {},
   "outputs": [
    {
     "name": "stdout",
     "output_type": "stream",
     "text": [
      "Function Name: get_list_of_dockets\n",
      "Function Arguments:\n"
     ]
    },
    {
     "data": {
      "text/plain": [
       "{'agencyId': 'DOS', 'searchTerm': 'ITAR', 'afterPostedDate': '2023-01-01'}"
      ]
     },
     "execution_count": 3,
     "metadata": {},
     "output_type": "execute_result"
    }
   ],
   "source": [
    "# Extract single tool call\n",
    "tool_call = run.required_action.submit_tool_outputs.tool_calls[0]\n",
    "name = tool_call.function.name\n",
    "arguments = json.loads(tool_call.function.arguments)\n",
    "\n",
    "print(\"Function Name:\", name)\n",
    "print(\"Function Arguments:\")\n",
    "arguments"
   ]
  },
  {
   "cell_type": "code",
   "execution_count": 6,
   "metadata": {},
   "outputs": [
    {
     "name": "stdout",
     "output_type": "stream",
     "text": [
      "Making API Call to: https://api.regulations.gov/v4/documents\n",
      "With parameters: {'api_key': '4p2Hpwlq1SJ5kOhayfhqeI0D1RtDOo70d8azejwL', 'filter[documentType]': 'Proposed Rule', 'sort': '-postedDate', 'filter[agencyId]': 'DOS', 'filter[searchTerm]': 'ITAR', 'filter[postedDate][ge]': '2023-01-01'}\n",
      "API Call Successful!\n",
      "Function Output:\n",
      "{'data': [{'id': 'DOS-2024-0013-0001', 'type': 'documents', 'attributes': {'documentType': 'Proposed Rule', 'lastModifiedDate': '2024-05-01T13:18:56Z', 'highlightedContent': '', 'frDocNum': '2024-08829', 'withdrawn': False, 'agencyId': 'DOS', 'commentEndDate': '2024-06-01T03:59:59Z', 'title': 'International Traffic in Arms Regulations: Exemption for Defense Trade and Cooperation Among Australia, the United Kingdom, and the United States', 'postedDate': '2024-05-01T04:00:00Z', 'docketId': 'DOS-2024-0013', 'subtype': None, 'commentStartDate': '2024-05-01T04:00:00Z', 'openForComment': True, 'objectId': '090000648652cd63'}, 'links': {'self': 'https://api.regulations.gov/v4/documents/DOS-2024-0013-0001'}}, {'id': 'DOS-2023-0034-0001', 'type': 'documents', 'attributes': {'documentType': 'Proposed Rule', 'lastModifiedDate': '2024-05-03T01:04:31Z', 'highlightedContent': '', 'frDocNum': '2024-08627', 'withdrawn': False, 'agencyId': 'DOS', 'commentEndDate': '2024-06-11T03:59:59Z', 'title': 'International Traffic in Arms Regulations: Registration Fees', 'postedDate': '2024-04-24T04:00:00Z', 'docketId': 'DOS-2023-0034', 'subtype': None, 'commentStartDate': '2024-04-24T04:00:00Z', 'openForComment': True, 'objectId': '09000064864eb4c9'}, 'links': {'self': 'https://api.regulations.gov/v4/documents/DOS-2023-0034-0001'}}], 'meta': {'aggregations': {'documentType': [{'docCount': 12, 'label': 'Notice'}, {'docCount': 9, 'label': 'Rule'}, {'docCount': 2, 'label': 'Proposed Rule'}], 'subtype': [], 'withinCommentPeriod': [{'docCount': 2, 'label': 'true'}, {'docCount': 0, 'label': 'false'}], 'agencyId': [{'docCount': 2, 'value': 'DARS'}, {'docCount': 2, 'value': 'DOS'}, {'docCount': 1, 'value': 'BIS'}, {'docCount': 1, 'value': 'DOD'}, {'docCount': 1, 'value': 'DOE'}, {'docCount': 1, 'value': 'FCC'}, {'docCount': 1, 'value': 'USBC'}], 'commentEndDate': [{'docCount': 1, 'label': 'Next 30 Days', 'fromDate': '2024-05-02 00:00:00', 'toDate': '2024-05-31 23:59:59'}, {'docCount': 2, 'label': 'Next 90 Days', 'fromDate': '2024-05-02 00:00:00', 'toDate': '2024-07-30 23:59:59'}], 'postedDate': [{'docCount': 1, 'label': 'Last 3 Days', 'fromDate': '2024-04-30 00:00:00', 'toDate': '2024-05-02 23:59:59'}, {'docCount': 1, 'label': 'Last 7 Days', 'fromDate': '2024-04-26 00:00:00', 'toDate': '2024-05-02 23:59:59'}, {'docCount': 2, 'label': 'Last 15 Days', 'fromDate': '2024-04-18 00:00:00', 'toDate': '2024-05-02 23:59:59'}, {'docCount': 2, 'label': 'Last 30 Days', 'fromDate': '2024-04-03 00:00:00', 'toDate': '2024-05-02 23:59:59'}, {'docCount': 2, 'label': 'Last 90 Days', 'fromDate': '2024-02-03 00:00:00', 'toDate': '2024-05-02 23:59:59'}]}, 'filters': {'postedDate': {'fromDate': '2023-01-01', 'toDate': None}, 'agencyId': [{'label': 'DOS', 'value': 'DOS'}], 'documentType': [{'label': 'Proposed Rule', 'value': 'Proposed Rule'}]}, 'hasNextPage': False, 'hasPreviousPage': False, 'numberOfElements': 2, 'pageNumber': 1, 'pageSize': 25, 'totalElements': 2, 'totalPages': 1, 'firstPage': True, 'lastPage': True}}\n"
     ]
    }
   ],
   "source": [
    "function_to_call = globals()[name]\n",
    "result = function_to_call(**arguments)\n",
    "\n",
    "print(\"Function Output:\")\n",
    "print(result)"
   ]
  },
  {
   "cell_type": "code",
   "execution_count": null,
   "metadata": {},
   "outputs": [],
   "source": [
    "run = AOAI.beta.threads.runs.submit_tool_outputs(\n",
    "    thread_id=thread.id,\n",
    "    run_id=run.id,\n",
    "    tool_outputs=[\n",
    "        {\n",
    "            \"tool_call_id\": tool_call.id,\n",
    "            \"output\": json.dumps(result),\n",
    "        }\n",
    "    ],\n",
    ")\n",
    "show_json(run)"
   ]
  },
  {
   "cell_type": "code",
   "execution_count": null,
   "metadata": {},
   "outputs": [],
   "source": [
    "run = wait_on_run(run, thread)\n",
    "run.status"
   ]
  },
  {
   "cell_type": "code",
   "execution_count": null,
   "metadata": {},
   "outputs": [],
   "source": [
    "# Extract single tool call\n",
    "tool_call = run.required_action.submit_tool_outputs.tool_calls[0]\n",
    "name = tool_call.function.name\n",
    "arguments = json.loads(tool_call.function.arguments)\n",
    "\n",
    "print(\"Function Name:\", name)\n",
    "print(\"Function Arguments:\")\n",
    "arguments"
   ]
  },
  {
   "cell_type": "code",
   "execution_count": null,
   "metadata": {},
   "outputs": [],
   "source": [
    "responses = get_data_from_last_10K_filing_by_section(ticker=\"MSFT\",section_path=\"Role_DisclosureEARNINGSPERSHARETables\")\n",
    "print(\"Responses:\", responses)"
   ]
  },
  {
   "cell_type": "code",
   "execution_count": null,
   "metadata": {},
   "outputs": [],
   "source": [
    "run = AOAI.beta.threads.runs.submit_tool_outputs(\n",
    "    thread_id=thread.id,\n",
    "    run_id=run.id,\n",
    "    tool_outputs=[\n",
    "        {\n",
    "            \"tool_call_id\": tool_call.id,\n",
    "            \"output\": json.dumps(responses),\n",
    "        }\n",
    "    ],\n",
    ")\n",
    "show_json(run)"
   ]
  },
  {
   "cell_type": "code",
   "execution_count": null,
   "metadata": {},
   "outputs": [],
   "source": [
    "run = wait_on_run(run, thread)\n",
    "pretty_print(get_response(thread))"
   ]
  }
 ],
 "metadata": {
  "kernelspec": {
   "display_name": ".venv",
   "language": "python",
   "name": "python3"
  },
  "language_info": {
   "codemirror_mode": {
    "name": "ipython",
    "version": 3
   },
   "file_extension": ".py",
   "mimetype": "text/x-python",
   "name": "python",
   "nbconvert_exporter": "python",
   "pygments_lexer": "ipython3",
   "version": "3.12.2"
  }
 },
 "nbformat": 4,
 "nbformat_minor": 2
}
