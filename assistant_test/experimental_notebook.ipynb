{
 "cells": [
  {
   "cell_type": "code",
   "execution_count": 1,
   "metadata": {},
   "outputs": [
    {
     "data": {
      "text/plain": [
       "True"
      ]
     },
     "execution_count": 1,
     "metadata": {},
     "output_type": "execute_result"
    }
   ],
   "source": [
    "# Imports\n",
    "from dotenv import load_dotenv\n",
    "from tools.researcher_10k import get_list_of_10_K_filings_for_company, get_section_from_10_K_in_markdown\n",
    "import pandas as pd\n",
    "import json\n",
    "\n",
    "# Load environment variables from a .env file\n",
    "load_dotenv()"
   ]
  },
  {
   "cell_type": "code",
   "execution_count": 2,
   "metadata": {},
   "outputs": [
    {
     "name": "stdout",
     "output_type": "stream",
     "text": [
      "ITEM 5. MARKET FOR REGISTRANT'S COMMON EQUITY, RELATED STOCKHOLDER MATTERS, AND ISSUER PURCHASES OF EQUITY SECURITIES\n",
      "MARKET AND STOCKHOLDERS\n",
      "Our common stock is traded on the NASDAQ Stock Market under the symbol MSFT. On July 24, 2023, there were 83,883 registered holders of record of our common stock.\n",
      "SHARE REPURCHASES AND DIVIDENDS\n",
      "Following are our monthly share repurchases for the fourth quarter of fiscal year 2023:\n",
      "|  |  |  |  |  |  |  |  |  |  |  |  |  |  |  |  |   \n",
      "---|---|---|---|---|---|---|---|---|---|---|---|---|---|---|---|---|---  \n",
      "Period |  | Total Numberof SharesPurchased |  |  | Average PricePaid Per Share |  |  | Total Number ofShares Purchasedas Part of PubliclyAnnounced Plansor Programs |  |  | Approximate DollarValue of Shares ThatMay Yet BePurchased Under thePlans or Programs |   \n",
      "|   \n",
      "|   \n",
      "|  | (In millions) |   \n",
      "|  |  |  |  |  |   \n",
      "April 1, 2023 - April 30, 2023 |  |  | 5,007,656 |  |  | $ | 287.97 |  |  |  | 5,007,656 |  |  | $ | 25,467 |   \n",
      "May 1, 2023 - May 31, 2023 |  |  | 5,355,638 |  |  |  | 314.26 |  |  |  | 5,355,638 |  |  |  | 23,784 |   \n",
      "June 1, 2023 - June 30, 2023 |  |  | 4,413,960 |  |  |  | 334.15 |  |  |  | 4,413,960 |  |  |  | 22,309 |   \n",
      "|  |  |  |  |  |  |  |  |  |  |  |  |  |  |  |   \n",
      "|  |  |  |  |  |  |  |  |  |  |  |  |  |  |  |   \n",
      "|  |  | 14,777,254 |  |  |  |  |  |  |  | 14,777,254 |  |  |  |  |   \n",
      "|  |  |  |  |  |  |  |  |  |  |  |  |  |  |  |   \n",
      "All share repurchases were made using cash resources. Our share repurchases may occur through open market purchases or pursuant to a Rule 10b5-1 trading plan. The above table excludes shares repurchased to settle employee tax withholding related to the vesting of stock awards.\n",
      "Our Board of Directors declared the following dividends during the fourth quarter of fiscal year 2023:\n",
      "|  |  |  |  |  |  |  |  |  |  |  |  |  |  |  |   \n",
      "---|---|---|---|---|---|---|---|---|---|---|---|---|---|---|---|---  \n",
      "Declaration Date |  |  | Record Date |  |  |  | Payment Date |  |  |  | DividendPer Share |  |  |  | Amount |   \n",
      "|  |  |  |  |  |  |  |  |  |  |  |  |  |  |  |   \n",
      "|  |  |  |  |  |  |  |  |  |  |  |  |  |  |  |   \n",
      "|  |  |  |  |  |  |  |  |  |  |  |  |  |  | (In millions) |   \n",
      "|  |  |  |  |  |  |  |  |  |  |  |  |  |  |  |   \n",
      "June 13, 2023 |  |  | August 17, 2023 |  |  |  | September 14, 2023 |  |  | $ | 0.68 |  |  | $ | 5,054 |   \n",
      "|  |  |  |  |  |  |  |  |  |  |  |  |  |  |  |   \n",
      "We returned $9.7 billion to shareholders in the form of share repurchases and dividends in the fourth quarter of fiscal year 2023. Refer to Note 16 - Stockholders' Equity of the Notes to Financial Statements (Part II, Item 8 of this Form 10-K) for further discussion regarding share repurchases and dividends.\n",
      "38\n",
      "* * *\n",
      "PART II\n",
      "Item 6\n",
      "\n"
     ]
    }
   ],
   "source": [
    "# Get the data available inside a 10K filing for a given symbol.\n",
    "filing_list = get_list_of_10_K_filings_for_company(\"MSFT\")\n",
    "# print(json.dumps(filing_list, indent=4))\n",
    "\n",
    "# Get the most recent filing link\n",
    "link_to_filing = filing_list[0]['link_to_filing_details']\n",
    "\n",
    "# Get a section from the 10-K filing\n",
    "section_markdown = get_section_from_10_K_in_markdown(link_to_filing, \"5\")\n",
    "\n",
    "# Print the section\n",
    "print(section_markdown)\n"
   ]
  }
 ],
 "metadata": {
  "kernelspec": {
   "display_name": ".venv",
   "language": "python",
   "name": "python3"
  },
  "language_info": {
   "codemirror_mode": {
    "name": "ipython",
    "version": 3
   },
   "file_extension": ".py",
   "mimetype": "text/x-python",
   "name": "python",
   "nbconvert_exporter": "python",
   "pygments_lexer": "ipython3",
   "version": "3.12.2"
  }
 },
 "nbformat": 4,
 "nbformat_minor": 2
}
