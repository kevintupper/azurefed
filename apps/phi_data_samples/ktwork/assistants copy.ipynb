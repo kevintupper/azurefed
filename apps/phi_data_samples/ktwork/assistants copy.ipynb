{
 "cells": [
  {
   "cell_type": "code",
   "execution_count": null,
   "metadata": {},
   "outputs": [],
   "source": [
    "# Imports\n",
    "\n",
    "# Standard imports\n",
    "import os\n",
    "from dotenv import load_dotenv\n",
    "\n",
    "# Third-party imports\n",
    "# import streamlit as st\n",
    "\n",
    "# Phidata imports\n",
    "from phi.assistant import Assistant\n",
    "from phi.llm.azure import AzureOpenAIChat\n",
    "from phi.tools.duckduckgo import DuckDuckGo\n",
    "from phi.tools.newspaper4k import Newspaper4k\n",
    "\n",
    "# Load environment variables locally if not on Azure, otherwise these will come from webapp config.\n",
    "if not os.getenv(\"ON_AZURE\"):\n",
    "    load_dotenv(override=True)\n",
    " \n",
    "# Get the Azure OpenAI API keys\n",
    "AZURE_OPENAI_API_KEY = os.getenv(\"AZURE_OPENAI_API_KEY\")\n",
    "AZURE_OPENAI_ENDPOINT = os.getenv(\"AZURE_OPENAI_ENDPOINT\")\n",
    "AZURE_OPENAI_API_VERSION = os.getenv(\"AZURE_OPENAI_API_VERSION\")\n",
    "AZURE_OPENAI_DEPLOYMENT = os.getenv(\"AZURE_OPENAI_DEPLOYMENT\")\n",
    "\n",
    "# Get the Regulations.gov API key\n",
    "REGULATIONS_GOV_API_KEY = os.getenv(\"REGULATIONS_GOV_API_KEY\")\n"
   ]
  },
  {
   "cell_type": "code",
   "execution_count": null,
   "metadata": {},
   "outputs": [],
   "source": [
    "from IPython.display import display, Markdown, Latex\n",
    "\n",
    "# Function to display markdown output\n",
    "def display_markdown(text: str):\n",
    "    \"\"\"\n",
    "    Display markdown text in the Streamlit app.\n",
    "    \"\"\"\n",
    "    display(Markdown(text))"
   ]
  },
  {
   "cell_type": "code",
   "execution_count": null,
   "metadata": {},
   "outputs": [],
   "source": [
    "from phi.assistant import Assistant\n",
    "from phi.tools.duckduckgo import DuckDuckGo\n",
    "\n",
    "\n",
    "aoai_llm=AzureOpenAIChat(model=AZURE_OPENAI_API_KEY, azure_endpoint=AZURE_OPENAI_ENDPOINT, azure_api_version=AZURE_OPENAI_API_VERSION, azure_deployment=AZURE_OPENAI_DEPLOYMENT)\n",
    "assistant = Assistant(llm=aoai_llm,tools=[DuckDuckGo(fixed_max_results=5)])\n",
    "result = assistant.run(\"What is the most recent score of the Yankees game? Today is 05/27/2024.\", markdown=True, stream=False)\n",
    "display_markdown(result)\n"
   ]
  },
  {
   "cell_type": "code",
   "execution_count": null,
   "metadata": {},
   "outputs": [],
   "source": [
    "from phi.assistant import Assistant\n",
    "from phi.llm.openai import AzureOpenAIChatOpenAIChat\n",
    "from phi.tools.yfinance import YFinanceTools\n",
    "\n",
    "assistant = Assistant(\n",
    "    llm=aoai_llm,\n",
    "    tools=[YFinanceTools(stgitock_price=True, analyst_recommendations=True, company_info=True, company_news=True)],\n",
    "    show_tool_calls=True,\n",
    "    markdown=True,\n",
    ")\n",
    "assistant.print_response(\"What is the stock price of NVDA\" )\n",
    "assistant.print_response(\"Write a comparison between NVDA and AMD, use all tools available.\")"
   ]
  }
 ],
 "metadata": {
  "kernelspec": {
   "display_name": "Python 3",
   "language": "python",
   "name": "python3"
  },
  "language_info": {
   "codemirror_mode": {
    "name": "ipython",
    "version": 3
   },
   "file_extension": ".py",
   "mimetype": "text/x-python",
   "name": "python",
   "nbconvert_exporter": "python",
   "pygments_lexer": "ipython3",
   "version": "3.12.3"
  }
 },
 "nbformat": 4,
 "nbformat_minor": 2
}
