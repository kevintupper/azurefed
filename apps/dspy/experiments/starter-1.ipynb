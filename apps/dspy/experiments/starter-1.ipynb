{
 "cells": [
  {
   "cell_type": "code",
   "execution_count": 28,
   "metadata": {},
   "outputs": [],
   "source": [
    "import dspy\n",
    "import helper_dspy\n",
    "from dspy import teleprompt\n",
    "from dspy.retrieve.chromadb_rm import ChromadbRM\n",
    "# from index_bridge_world_system import CHROMADB_DIR, CHROMA_COLLECTION_NAME\n",
    "\n",
    "import json\n",
    "\n",
    "\n",
    "class SymbolsToResearch(dspy.Module):\n",
    "    \"\"\"\n",
    "    Extract relevant ticker symbols for analyst doing research\n",
    "    \"\"\"\n",
    "    def __init__(self):\n",
    "        super().__init__()\n",
    "        self.entity_extractor = dspy.Predict(\"instruction, current_thread -> symbols\")\n",
    "\n",
    "    def forward(self, current_thread):\n",
    "        meta_prompt = f\"Your job is to analyze the sequence of user questions and deduce the ticker symbols of companies (if any) that the last question applies to. Be clever, sometimes you will have to deduce the companies from the question because they won't be named. Return only the ticker symbols.\"\n",
    "        prediction = self.entity_extractor(\n",
    "            current_thread=f\"{current_thread}\"\n",
    "        )\n",
    "        answer = prediction.symbols\n",
    "        if \"Symbols: \" in answer:\n",
    "            start = answer.rindex(\"Symbols: \") + len(\"Symbols: \")\n",
    "            answer = answer[start:]\n",
    "        return [a.strip() for a in answer.split(',')]\n",
    "    "
   ]
  },
  {
   "cell_type": "code",
   "execution_count": 29,
   "metadata": {},
   "outputs": [
    {
     "name": "stdout",
     "output_type": "stream",
     "text": [
      "['N/A']\n"
     ]
    },
    {
     "data": {
      "text/plain": [
       "{'prompt': \"Given the fields `current_thread`, produce the fields `symbols`.\\n\\n---\\n\\nFollow the following format.\\n\\nCurrent Thread: ${current_thread}\\nSymbols: ${symbols}\\n\\n---\\n\\nCurrent Thread: Your job is to analyze the sequence of user questions and deduce the ticker symbols of companies (if any) that the last question applies to. Be clever, sometimes you will have to deduce the companies from the question because they won't be named. Return only the ticker symbols. # Example 1: Sequence_of_user_questions: - What are the current earnings per share for the big 3 US cloud providers? Symbols: MSFT,AMZN,GOOG # Example 2: Sequence_of_user_questions: - What are the current earnings per share for the big 3 US cloud providers? - Can you tell me the definition of opex? - Do Tesla and Apple have debt? Symbols: TSLA,AAPL # Example 3: Sequence_of_user_questions: - Did Bank of America increase their earnings last year? - How about Wells Fargo? Symbols: WFC === Analyze the sequence of user questions and deduce the ticker symbols of companies (if any) that the last question applies to. Be clever, sometimes you will have to deduce the companies from the question because they won't be named. Return the ticker symbols. Sequence_of_user_questions: - Tell me about the risk of the major US banks. Symbols:\\nSymbols:\",\n",
       " 'response': {'id': 'chatcmpl-9911az9OVL4K6gdkcY2us7WIMUyYo',\n",
       "  'choices': [{'finish_reason': 'stop',\n",
       "    'index': 0,\n",
       "    'logprobs': None,\n",
       "    'message': {'content': 'Symbols: N/A',\n",
       "     'role': 'assistant',\n",
       "     'function_call': None,\n",
       "     'tool_calls': None}}],\n",
       "  'created': 1711935918,\n",
       "  'model': 'gpt-35-turbo',\n",
       "  'object': 'chat.completion',\n",
       "  'system_fingerprint': 'fp_2f57f81c11',\n",
       "  'usage': {'completion_tokens': 4,\n",
       "   'prompt_tokens': 296,\n",
       "   'total_tokens': 300}},\n",
       " 'kwargs': {'stringify_request': '{\"temperature\": 0.0, \"max_tokens\": 500, \"top_p\": 0.2, \"frequency_penalty\": 0, \"presence_penalty\": 0, \"n\": 1, \"model\": \"gpt-35-turbo\", \"messages\": [{\"role\": \"user\", \"content\": \"Given the fields `current_thread`, produce the fields `symbols`.\\\\n\\\\n---\\\\n\\\\nFollow the following format.\\\\n\\\\nCurrent Thread: ${current_thread}\\\\nSymbols: ${symbols}\\\\n\\\\n---\\\\n\\\\nCurrent Thread: Your job is to analyze the sequence of user questions and deduce the ticker symbols of companies (if any) that the last question applies to. Be clever, sometimes you will have to deduce the companies from the question because they won\\'t be named. Return only the ticker symbols. # Example 1: Sequence_of_user_questions: - What are the current earnings per share for the big 3 US cloud providers? Symbols: MSFT,AMZN,GOOG # Example 2: Sequence_of_user_questions: - What are the current earnings per share for the big 3 US cloud providers? - Can you tell me the definition of opex? - Do Tesla and Apple have debt? Symbols: TSLA,AAPL # Example 3: Sequence_of_user_questions: - Did Bank of America increase their earnings last year? - How about Wells Fargo? Symbols: WFC === Analyze the sequence of user questions and deduce the ticker symbols of companies (if any) that the last question applies to. Be clever, sometimes you will have to deduce the companies from the question because they won\\'t be named. Return the ticker symbols. Sequence_of_user_questions: - Tell me about the risk of the major US banks. Symbols:\\\\nSymbols:\"}]}'},\n",
       " 'raw_kwargs': {}}"
      ]
     },
     "execution_count": 29,
     "metadata": {},
     "output_type": "execute_result"
    }
   ],
   "source": [
    "# Setup DSP\n",
    "gpt_35_symbol_finder = helper_dspy.get_dspy_client(service_id='gpt_35_turbo', max_tokens=500, temperature=0.0, top_p=0.2)\n",
    "dspy.settings.configure(lm=gpt_35_symbol_finder)\n",
    "\n",
    "\n",
    "# Test question\n",
    "examples = \"\"\"\n",
    "Your job is to analyze the sequence of user questions and deduce the ticker symbols of companies (if any) that the last question applies to. Be clever, sometimes you will have to deduce the companies from the question because they won't be named. Return only the ticker symbols.\n",
    "\n",
    "# Example 1:\n",
    "Sequence_of_user_questions: \n",
    "    - What are the current earnings per share for the big 3 US cloud providers?\n",
    "Symbols: MSFT,AMZN,GOOG\n",
    "\n",
    "# Example 2:\n",
    "Sequence_of_user_questions: \n",
    "    - What are the current earnings per share for the big 3 US cloud providers?\n",
    "    - Can you tell me the definition of opex?\n",
    "    - Do Tesla and Apple have debt?\n",
    "Symbols: TSLA,AAPL\n",
    "\n",
    "# Example 3:\n",
    "Sequence_of_user_questions: \n",
    "    - Did Bank of America increase their earnings last year?\n",
    "    - How about Wells Fargo?\n",
    "Symbols: WFC\n",
    "\n",
    "===\n",
    "\n",
    "Analyze the sequence of user questions and deduce the ticker symbols of companies (if any) that the last question applies to. Be clever, sometimes you will have to deduce the companies from the question because they won't be named. Return the ticker symbols.\n",
    "\n",
    "Sequence_of_user_questions:\n",
    "    - Tell me about the risk of the major US banks.\n",
    "Symbols: \n",
    "\"\"\"\n",
    "module = SymbolsToResearch()\n",
    "response = module(examples)\n",
    "print(response)\n",
    "\n",
    "gpt_35_symbol_finder.history[0]"
   ]
  },
  {
   "cell_type": "code",
   "execution_count": null,
   "metadata": {},
   "outputs": [],
   "source": [
    "from dspy.teleprompt import BootstrapFewShot\n",
    "\n",
    "# Small training set with question and answer pairs\n",
    "trainset = [dspy.Example(question=\"What were the two main things the author worked on before college?\", \n",
    "                         answer=\"Writing and programming\").with_inputs('question'),\n",
    "            dspy.Example(question=\"What kind of writing did the author do before college?\", \n",
    "                         answer=\"Short stories\").with_inputs('question'),\n",
    "            ...\n",
    "            ]\n",
    "\n",
    "# The teleprompter will bootstrap missing labels: reasoning chains and retrieval contexts\n",
    "teleprompter = BootstrapFewShot(metric=dspy.evaluate.answer_exact_match)\n",
    "compiled_rag = teleprompter.compile(RAG(), trainset=trainset)"
   ]
  },
  {
   "cell_type": "markdown",
   "metadata": {},
   "source": [
    "Below is user input to an AI.  \n",
    "\n",
    "**User inputs**  \n",
    "Graph the current earnings per share for the US regional banks from 2020 to 2024.\n",
    "\n",
    "TASK:  \n",
    "1. Reivew the input and determine if the AI should lookup SEC filings for specific companies to respond to the input.\n",
    "2. Reframe the input to include the list of companies that might be helpful or reframe the input so it is clear for the AI.\n",
    "3. Return the reframed input.\n",
    "\n",
    "\n",
    "\n",
    "===\n",
    "\n",
    "\n",
    "Below is a sequence of user inputs to an AI.  \n",
    "\n",
    "**Sequence of user inputs**  \n",
    "- Can you graph the current earnings per share for the big 3 US cloud providers (Amazon, Microsoft, Google) from 2020 to 2024?\n",
    "- include apple too\n",
    "\n",
    "TASK:  \n",
    "\n",
    "Assume the last input is a follow-up to the previous ones. Reframe the last question so it can stand on its own and return the reframed input."
   ]
  },
  {
   "cell_type": "markdown",
   "metadata": {},
   "source": [
    "USER INPUT TO AI:\n",
    "Graph the current earnings per share for the US regional banks from 2020 to 2023.\n",
    "\n",
    "TASK:  \n",
    "Return a comma separated list of ticker symbols the AI should lookup SEC filings for to aid in its response to the input.\n",
    "\n",
    "RESPONSE FORMAT:\n",
    "Comma separated list\n"
   ]
  }
 ],
 "metadata": {
  "kernelspec": {
   "display_name": ".venv",
   "language": "python",
   "name": "python3"
  },
  "language_info": {
   "codemirror_mode": {
    "name": "ipython",
    "version": 3
   },
   "file_extension": ".py",
   "mimetype": "text/x-python",
   "name": "python",
   "nbconvert_exporter": "python",
   "pygments_lexer": "ipython3",
   "version": "3.12.2"
  }
 },
 "nbformat": 4,
 "nbformat_minor": 2
}
