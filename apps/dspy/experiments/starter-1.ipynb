{
 "cells": [
  {
   "cell_type": "code",
   "execution_count": 8,
   "metadata": {},
   "outputs": [],
   "source": [
    "import dspy\n",
    "from dspy import teleprompt\n",
    "from dspy.retrieve.chromadb_rm import ChromadbRM\n",
    "# from index_bridge_world_system import CHROMADB_DIR, CHROMA_COLLECTION_NAME\n",
    "import json\n",
    "\n",
    "class FindSymbols(dspy.Module):\n",
    "    \"\"\"\n",
    "    Extract needed symbols from user conversations.\n",
    "    \"\"\"\n",
    "    def __init__(self):\n",
    "        super().__init__()\n",
    "        self.entity_extractor = dspy.Predict(\"question -> symbols\")\n",
    "\n",
    "    def forward(self, question_thread):\n",
    "        prompt = f\"Identify the ticker symmbols for SEC filings a research will use to ansewr the last user question in context.\"\n",
    "        prediction = self.entity_extractor(\n",
    "            question=f\"{prompt}\\n{question_thread}\"\n",
    "        )\n",
    "        answer = prediction.symbols\n",
    "        if \"Symbols: \" in answer:\n",
    "            start = answer.rindex(\"Symbols: \") + len(\"Symbols: \")\n",
    "            answer = answer[start:]\n",
    "        return [a.strip() for a in answer.split(',')]"
   ]
  }
 ],
 "metadata": {
  "kernelspec": {
   "display_name": ".venv",
   "language": "python",
   "name": "python3"
  },
  "language_info": {
   "codemirror_mode": {
    "name": "ipython",
    "version": 3
   },
   "file_extension": ".py",
   "mimetype": "text/x-python",
   "name": "python",
   "nbconvert_exporter": "python",
   "pygments_lexer": "ipython3",
   "version": "3.12.2"
  }
 },
 "nbformat": 4,
 "nbformat_minor": 2
}
